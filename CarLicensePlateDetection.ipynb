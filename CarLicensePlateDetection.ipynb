{
  "nbformat": 4,
  "nbformat_minor": 0,
  "metadata": {
    "colab": {
      "provenance": [],
      "gpuType": "T4",
      "mount_file_id": "1_CnQyuuMrD2X4su3x0ovSX6oQvMUjBxP",
      "authorship_tag": "ABX9TyP3egtqpSj9mEKiNEJOPmQs"
    },
    "kernelspec": {
      "name": "python3",
      "display_name": "Python 3"
    },
    "language_info": {
      "name": "python"
    },
    "accelerator": "GPU"
  },
  "cells": [
    {
      "cell_type": "code",
      "execution_count": null,
      "metadata": {
        "id": "lD6RNLBDCUkH",
        "collapsed": true
      },
      "outputs": [],
      "source": [
        "#解壓縮檔案\n",
        "from google.colab import drive\n",
        "drive.mount(\"/content/drive\")\n",
        "import os\n",
        "path=\"/content/drive/MyDrive\"\n",
        "os.chdir(path)\n",
        "os.listdir(path)\n",
        "!pwd 1\n",
        "!ls\n",
        "!unzip '/content/drive/MyDrive/CVFinalproject/archive.zip' -d '/content/drive/MyDrive/CarLicensePlateDetection'"
      ]
    },
    {
      "cell_type": "code",
      "source": [
        "import numpy as np\n",
        "import pandas as pd\n",
        "import os\n",
        "import numpy"
      ],
      "metadata": {
        "id": "UC9dWjE5CYQj"
      },
      "execution_count": null,
      "outputs": []
    },
    {
      "cell_type": "code",
      "source": [
        "os.mkdir(\"/content/plate_train_data\")\n",
        "os.mkdir(\"/content/plate_train_data/images\")\n",
        "os.mkdir(\"/content/plate_train_data/labels\")\n",
        "os.mkdir(\"/content/plate_train_data/images/train\")\n",
        "os.mkdir(\"/content/plate_train_data/images/val\")\n",
        "os.mkdir(\"/content/plate_train_data/labels/train\")\n",
        "os.mkdir(\"/content/plate_train_data/labels/val\")"
      ],
      "metadata": {
        "id": "-NShP-RWCuX6"
      },
      "execution_count": null,
      "outputs": []
    },
    {
      "cell_type": "code",
      "source": [
        "#轉換為YOLO所使用的.txt格式\n",
        "import xml.etree.ElementTree as ET\n",
        "from xml.dom.minidom import parse\n",
        "\n",
        "path = \"/content/drive/MyDrive/CarLicensePlateDetection/annotations\"\n",
        "classes = {\"licence\":0}\n",
        "\n",
        "for annotations in os.listdir(path):\n",
        "    dom = parse(os.path.join(path,annotations))\n",
        "    root = dom.documentElement\n",
        "    filename = \".txt\".join(root.getElementsByTagName(\"filename\")[0].childNodes[0].data.split(\".png\"))\n",
        "    image_width = root.getElementsByTagName(\"width\")[0].childNodes[0].data\n",
        "    image_height = root.getElementsByTagName(\"height\")[0].childNodes[0].data\n",
        "    with open(\"/content/plate_train_data/labels/train/\"+filename,\"w\") as r:\n",
        "        for items in root.getElementsByTagName(\"object\") :\n",
        "            name = items.getElementsByTagName(\"name\")[0].childNodes[0].data\n",
        "            xmin = items.getElementsByTagName(\"xmin\")[0].childNodes[0].data\n",
        "            ymin = items.getElementsByTagName(\"ymin\")[0].childNodes[0].data\n",
        "            xmax = items.getElementsByTagName(\"xmax\")[0].childNodes[0].data\n",
        "            ymax = items.getElementsByTagName(\"ymax\")[0].childNodes[0].data\n",
        "            x_center_norm = ((int(xmin)+int(xmax)) / 2 ) / int(image_width)\n",
        "            y_center_norm = ((int(ymin)+int(ymax))/2) / int(image_height)\n",
        "            width_norm = ((int(xmax)-int(xmin))/int(image_width))\n",
        "            height_norm = ((int(ymax)-int(ymin))/int(image_height))\n",
        "            r.write(str(classes[name])+\" \")\n",
        "            r.write(str(x_center_norm)+\" \")\n",
        "            r.write(str(y_center_norm)+\" \")\n",
        "            r.write(str(width_norm)+\" \")\n",
        "            r.write(str(height_norm)+\"\\n\")"
      ],
      "metadata": {
        "id": "_LE7sQ86CwCp"
      },
      "execution_count": null,
      "outputs": []
    },
    {
      "cell_type": "code",
      "source": [
        "import shutil\n",
        "path = \"/content/drive/MyDrive/CarLicensePlateDetection/images\"\n",
        "\n",
        "for images in os.listdir(path):\n",
        "  image_path = os.path.join(path,images)\n",
        "  shutil.copy(image_path,\"/content/plate_train_data/images/train/\"+images)"
      ],
      "metadata": {
        "id": "98TzUpkOCyIJ"
      },
      "execution_count": null,
      "outputs": []
    },
    {
      "cell_type": "code",
      "source": [
        "from random import shuffle\n",
        "from glob import glob\n",
        "import random\n",
        "import shutil\n",
        "\n",
        "random.seed(42)\n",
        "files = glob(\"/content/plate_train_data/images/train/*.png\")\n",
        "shuffle(files)\n",
        "txt_train_path = \"/content/plate_train_data/labels/train/\"\n",
        "img_train_path = \"/content/plate_train_data/images/train/\"\n",
        "txt_val_path = \"/content/plate_train_data/labels/val/\"\n",
        "img_val_path = \"/content/plate_train_data/images/val/\"\n",
        "for i in files[:120]:\n",
        "    filename = i.split(\"/\")[-1]\n",
        "    shutil.move(txt_train_path+filename.replace(\".png\",\".txt\"),\\\n",
        "                txt_val_path+filename.replace(\".png\",\".txt\"))\n",
        "    shutil.move(img_train_path+filename,img_val_path+filename)"
      ],
      "metadata": {
        "id": "zEMsJdRcC0LM"
      },
      "execution_count": null,
      "outputs": []
    },
    {
      "cell_type": "code",
      "source": [
        "%cd /content\n",
        "!echo \"train: /content/plate_train_data/images/train\" > licence.yaml\n",
        "!echo \"val:   /content/plate_train_data/images/val\"  >> licence.yaml\n",
        "!echo \"nc : 1\" >> licence.yaml\n",
        "!echo \"names: ['licence']\" >> licence.yaml"
      ],
      "metadata": {
        "id": "jSren1mZC2EA"
      },
      "execution_count": null,
      "outputs": []
    },
    {
      "cell_type": "code",
      "source": [
        "%cd /content/\n",
        "%rm -rf yolov5\n",
        "!git clone https://github.com/ultralytics/yolov5\n",
        "%cd yolov5\n",
        "!pip install -r requirements.txt"
      ],
      "metadata": {
        "id": "NPbjb5VNC5Tn",
        "collapsed": true
      },
      "execution_count": null,
      "outputs": []
    },
    {
      "cell_type": "code",
      "source": [
        "!python train.py --weights yolov5s.pt --cfg models/yolov5s.yaml --img 416 --batch 48 --epochs 40 --data /content/licence.yaml  --cache"
      ],
      "metadata": {
        "id": "JXOWRAVPC50r",
        "collapsed": true
      },
      "execution_count": null,
      "outputs": []
    },
    {
      "cell_type": "code",
      "source": [
        "!python /content/yolov5/detect.py --weights /content/yolov5/runs/train/exp/weights/best.pt --source /content/drive/MyDrive/CVFinalproject/004.mp4 --conf-thres=0.75 --save-crop"
      ],
      "metadata": {
        "id": "kImpC5UXC9hK",
        "collapsed": true
      },
      "execution_count": null,
      "outputs": []
    },
    {
      "cell_type": "code",
      "source": [
        "!pip install pytesseract\n",
        "!sudo apt install tesseract-ocr"
      ],
      "metadata": {
        "id": "WtfrSItuDBeZ",
        "collapsed": true
      },
      "execution_count": null,
      "outputs": []
    },
    {
      "cell_type": "code",
      "source": [
        "import pytesseract\n",
        "import cv2\n",
        "from matplotlib import pyplot as plt\n",
        "from google.colab.patches import cv2_imshow"
      ],
      "metadata": {
        "id": "UY3IsXH5DDXN"
      },
      "execution_count": null,
      "outputs": []
    },
    {
      "cell_type": "code",
      "source": [
        "image = cv2.imread('/content/yolov5/runs/detect/exp4/crops/licence/002345.jpg')\n",
        "image = cv2.cvtColor(image, cv2.COLOR_BGR2GRAY)\n",
        "image = cv2.resize(image, (800, 300), interpolation=cv2.INTER_CUBIC)\n",
        "ret, image = cv2.threshold(image,0,255,cv2.THRESH_BINARY+cv2.THRESH_OTSU)\n",
        "contours, hierarchy = cv2.findContours(image, cv2.RETR_TREE, cv2.CHAIN_APPROX_SIMPLE)\n",
        "cv2.drawContours(image, contours, -1, (0, 0, 255), 2)\n",
        "text = pytesseract.image_to_string(image,\n",
        "                config = f'--psm 8 --oem 3 -c tessedit_char_whitelist=ABCDEFGHIJKLMNOPQRSTUVWXYZ0123456789')\n",
        "#text = pytesseract.image_to_string(image)\n",
        "cv2_imshow(image)\n",
        "#plt.imshow(image)\n",
        "#plt.show()\n",
        "print(text)"
      ],
      "metadata": {
        "id": "eNgzFYVYDDy5",
        "collapsed": true
      },
      "execution_count": null,
      "outputs": []
    },
    {
      "cell_type": "code",
      "source": [
        "!pip install easyocr"
      ],
      "metadata": {
        "id": "1PxcjMZTVsDv",
        "collapsed": true
      },
      "execution_count": null,
      "outputs": []
    },
    {
      "cell_type": "code",
      "source": [
        "import easyocr"
      ],
      "metadata": {
        "id": "qisGWar5Vx8M"
      },
      "execution_count": null,
      "outputs": []
    },
    {
      "cell_type": "code",
      "source": [
        "reader = easyocr.Reader(['en']) # this needs to run only once to load the model into memory\n",
        "image = cv2.imread('/content/yolov5/runs/detect/exp4/crops/licence/00236.jpg')\n",
        "image = cv2.cvtColor(image, cv2.COLOR_BGR2GRAY)\n",
        "image = cv2.resize(image, (800, 300), interpolation=cv2.INTER_CUBIC)\n",
        "ret, image = cv2.threshold(image,0,255,cv2.THRESH_BINARY+cv2.THRESH_OTSU)\n",
        "#contours, hierarchy = cv2.findContours(image, cv2.RETR_TREE, cv2.CHAIN_APPROX_SIMPLE)\n",
        "#cv2.drawContours(image, contours, -1, (0, 0, 255), 2)\n",
        "result = reader.readtext(image,detail = 0)\n",
        "print(result)"
      ],
      "metadata": {
        "id": "MG1D1-brV3w2",
        "collapsed": true
      },
      "execution_count": null,
      "outputs": []
    },
    {
      "cell_type": "code",
      "source": [
        "#使用Tesseract\n",
        "\n",
        "import cv2\n",
        "import pytesseract\n",
        "import os\n",
        "from google.colab.patches import cv2_imshow\n",
        "from collections import Counter\n",
        "\n",
        "all_plates = []\n",
        "# 資料夾路徑\n",
        "folder_path = '/content/yolov5/runs/detect/exp4/crops/licence/'\n",
        "\n",
        "# 輸出txt檔案路徑\n",
        "txt_file_path = '/content/license_plate.txt'\n",
        "\n",
        "# 初始化txt檔案\n",
        "with open(txt_file_path, 'w') as file:\n",
        "    pass\n",
        "\n",
        "# 讀取資料夾內的所有圖片檔案\n",
        "image_files = [f for f in os.listdir(folder_path) if f.endswith('.jpg')]\n",
        "\n",
        "for image_file in image_files:\n",
        "    # 圖片路徑\n",
        "    image_path = os.path.join(folder_path, image_file)\n",
        "\n",
        "    # 讀取圖片並進行處理\n",
        "    image = cv2.imread(image_path)\n",
        "    image_gray = cv2.cvtColor(image, cv2.COLOR_BGR2GRAY)\n",
        "    image_resized = cv2.resize(image_gray, (800, 300), interpolation=cv2.INTER_CUBIC)\n",
        "    ret, image_threshold = cv2.threshold(image_resized, 0, 255, cv2.THRESH_BINARY + cv2.THRESH_OTSU)\n",
        "    contours, hierarchy = cv2.findContours(image_threshold, cv2.RETR_TREE, cv2.CHAIN_APPROX_SIMPLE)\n",
        "    cv2.drawContours(image_threshold, contours, -1, (0, 0, 255), 2)\n",
        "\n",
        "    # 使用Tesseract進行文字識別\n",
        "    result = pytesseract.image_to_string(image_threshold,\n",
        "                                       config='--psm 8 --oem 3 -c tessedit_char_whitelist=ABCDEFGHIJKLMNOPQRSTUVWXYZ0123456789')\n",
        "    all_plates.append(result)\n",
        "\n",
        "# 計算車牌出現次數\n",
        "plate_counts = Counter(all_plates)\n",
        "\n",
        "# 找到出現最多次的車牌\n",
        "most_common_plate = plate_counts.most_common(1)[0][0]\n",
        "\n",
        "# 將結果寫入txt檔案\n",
        "with open(txt_file_path, 'w') as file:\n",
        "    file.write(f'Most common license plate: {most_common_plate}\\n')\n",
        "\n",
        "# 輸出結果\n",
        "print(f'Most common license plate: {most_common_plate}')"
      ],
      "metadata": {
        "id": "WAG3gYH4c6L4"
      },
      "execution_count": null,
      "outputs": []
    },
    {
      "cell_type": "code",
      "source": [
        "#使用EasyOCR\n",
        "\n",
        "import cv2\n",
        "import easyocr\n",
        "import os\n",
        "from collections import Counter\n",
        "\n",
        "# 初始化EasyOCR模型\n",
        "reader = easyocr.Reader(['en']) # 只需執行一次，將模型載入記憶體\n",
        "\n",
        "# 資料夾路徑\n",
        "folder_path = '/content/yolov5/runs/detect/exp15/crops/licence/'\n",
        "\n",
        "# 輸出txt檔案路徑\n",
        "txt_file_path = '/content/license_plate.txt'\n",
        "\n",
        "# 讀取資料夾內的所有圖片檔案\n",
        "image_files = [f for f in os.listdir(folder_path) if f.endswith('.jpg')]\n",
        "\n",
        "# 儲存所有車牌結果的列表\n",
        "all_plates = []\n",
        "\n",
        "for image_file in image_files:\n",
        "    # 圖片路徑\n",
        "    image_path = os.path.join(folder_path, image_file)\n",
        "\n",
        "    # 讀取圖片並進行處理\n",
        "    image = cv2.imread(image_path)\n",
        "    image_gray = cv2.cvtColor(image, cv2.COLOR_BGR2GRAY)\n",
        "    image_resized = cv2.resize(image_gray, (800, 300), interpolation=cv2.INTER_CUBIC)\n",
        "    ret, image_threshold = cv2.threshold(image_resized, 0, 255, cv2.THRESH_BINARY + cv2.THRESH_OTSU)\n",
        "    contours, hierarchy = cv2.findContours(image_resized, cv2.RETR_TREE, cv2.CHAIN_APPROX_SIMPLE)\n",
        "    cv2.drawContours(image, contours, -1, (0, 0, 255), 2)\n",
        "\n",
        "    # 使用EasyOCR進行文字識別\n",
        "    #result = reader.readtext(image_threshold, detail=0)\n",
        "    #all_plates.extend(result)\n",
        "    #使用pytesseract\n",
        "    result = pytesseract.image_to_string(image_threshold,\n",
        "                              config='--psm 8 --oem 3 -c tessedit_char_whitelist=ABCDEFGHIJKLMNOPQRSTUVWXYZ0123456789')\n",
        "    print(result)\n",
        "    # 將車牌識別結果加入列表\n",
        "    all_plates.append(result)\n",
        "\n",
        "# 計算車牌出現次數\n",
        "plate_counts = Counter(all_plates)\n",
        "print(Counter(all_plates))\n",
        "\n",
        "# 找到出現最多次的車牌\n",
        "most_common_plate = plate_counts.most_common(1)[0][0]\n",
        "\n",
        "# 將結果寫入txt檔案\n",
        "with open(txt_file_path, 'w') as file:\n",
        "    file.write(f'Most common license plate: {most_common_plate}\\n')\n",
        "\n",
        "# 輸出結果\n",
        "print(f'Most common license plate: {most_common_plate}')"
      ],
      "metadata": {
        "id": "FaHnZGKcdSFp"
      },
      "execution_count": null,
      "outputs": []
    },
    {
      "cell_type": "code",
      "source": [
        "#DEMO\n",
        "\n",
        "import cv2\n",
        "import easyocr\n",
        "import os\n",
        "from collections import Counter\n",
        "\n",
        "# 初始化EasyOCR模型\n",
        "reader = easyocr.Reader(['en']) # 只需執行一次，將模型載入記憶體\n",
        "\n",
        "# 資料夾路徑\n",
        "folder_path = '/content/yolov5/runs/detect/exp/crops/licence/'\n",
        "\n",
        "# 輸出txt檔案路徑\n",
        "txt_file_path = '/content/license_plate.txt'\n",
        "\n",
        "# 讀取資料夾內的所有圖片檔案\n",
        "image_files = [f for f in os.listdir(folder_path) if f.endswith('.jpg')]\n",
        "\n",
        "# 儲存所有車牌結果的列表\n",
        "all_plates = []\n",
        "\n",
        "for i in range (6):\n",
        "    for image_file in image_files:\n",
        "        # 圖片路徑\n",
        "        image_path = os.path.join(folder_path, image_file)\n",
        "\n",
        "        # 讀取圖片並進行處理\n",
        "        image = cv2.imread(image_path)\n",
        "        image_gray = cv2.cvtColor(image, cv2.COLOR_BGR2GRAY)\n",
        "        image_resized = cv2.resize(image_gray, (800, 300), interpolation=cv2.INTER_CUBIC)\n",
        "        ret, image_threshold = cv2.threshold(image_resized, 0, 255, cv2.THRESH_BINARY + cv2.THRESH_OTSU)\n",
        "        contours, hierarchy = cv2.findContours(image_resized, cv2.RETR_TREE, cv2.CHAIN_APPROX_SIMPLE)\n",
        "        cv2.drawContours(image, contours, -1, (0, 0, 255), 2)\n",
        "\n",
        "\n",
        "        # 使用EasyOCR進行文字識別\n",
        "        #result = reader.readtext(image_threshold, detail=0)\n",
        "        #all_plates.extend(result)\n",
        "\n",
        "\n",
        "        #使用pytesseract\n",
        "        result = pytesseract.image_to_string(image_threshold,\n",
        "                                  config='--psm 8 --oem 3 -c tessedit_char_whitelist=ABCDEFGHIJKLMNOPQRSTUVWXYZ0123456789')\n",
        "        #print(result)\n",
        "\n",
        "\n",
        "        # 將車牌識別結果加入列表\n",
        "        all_plates.append(result)\n",
        "\n",
        "    # 計算車牌出現次數\n",
        "    plate_counts = Counter(all_plates)\n",
        "    print(Counter(all_plates))\n",
        "\n",
        "    # 找到出現最多次的車牌\n",
        "    most_common_plate = plate_counts.most_common(1)[0][0]\n",
        "\n",
        "    # 將結果寫入txt檔案\n",
        "    with open(txt_file_path, 'a+') as file:\n",
        "        file.write(f'Most common license plate: {most_common_plate}')\n",
        "\n",
        "    # 輸出結果\n",
        "    print(f'Most common license plate: {most_common_plate}')"
      ],
      "metadata": {
        "id": "fwhR3wF1oOt7",
        "collapsed": true
      },
      "execution_count": null,
      "outputs": []
    }
  ]
}